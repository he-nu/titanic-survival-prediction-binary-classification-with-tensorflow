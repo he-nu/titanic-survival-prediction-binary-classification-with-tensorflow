{
 "cells": [
  {
   "cell_type": "code",
   "execution_count": 1,
   "metadata": {},
   "outputs": [
    {
     "name": "stderr",
     "output_type": "stream",
     "text": [
      "2024-01-19 22:38:47.740087: I tensorflow/core/util/port.cc:111] oneDNN custom operations are on. You may see slightly different numerical results due to floating-point round-off errors from different computation orders. To turn them off, set the environment variable `TF_ENABLE_ONEDNN_OPTS=0`.\n",
      "2024-01-19 22:38:47.797037: E tensorflow/compiler/xla/stream_executor/cuda/cuda_dnn.cc:9342] Unable to register cuDNN factory: Attempting to register factory for plugin cuDNN when one has already been registered\n",
      "2024-01-19 22:38:47.797095: E tensorflow/compiler/xla/stream_executor/cuda/cuda_fft.cc:609] Unable to register cuFFT factory: Attempting to register factory for plugin cuFFT when one has already been registered\n",
      "2024-01-19 22:38:47.797118: E tensorflow/compiler/xla/stream_executor/cuda/cuda_blas.cc:1518] Unable to register cuBLAS factory: Attempting to register factory for plugin cuBLAS when one has already been registered\n",
      "2024-01-19 22:38:47.809217: I tensorflow/core/platform/cpu_feature_guard.cc:182] This TensorFlow binary is optimized to use available CPU instructions in performance-critical operations.\n",
      "To enable the following instructions: AVX2 AVX512F AVX512_VNNI FMA, in other operations, rebuild TensorFlow with the appropriate compiler flags.\n"
     ]
    }
   ],
   "source": [
    "import data_preparation\n",
    "\n",
    "import pandas as pd\n",
    "import numpy as np\n",
    "\n",
    "from sklearn.model_selection import train_test_split\n",
    "\n",
    "import tensorflow as tf\n",
    "from tensorflow.keras import datasets, layers, models, losses, regularizers, callbacks\n",
    "\n",
    "df = data_preparation.CLEANED_TRAINING_DATA\n",
    "test_df = data_preparation.CLEANED_TEST_DATA\n",
    "original_test_df = pd.read_csv(\"data/test.csv\")\n",
    "test_ids = original_test_df.PassengerId"
   ]
  },
  {
   "cell_type": "code",
   "execution_count": 2,
   "metadata": {},
   "outputs": [
    {
     "data": {
      "text/html": [
       "<div>\n",
       "<style scoped>\n",
       "    .dataframe tbody tr th:only-of-type {\n",
       "        vertical-align: middle;\n",
       "    }\n",
       "\n",
       "    .dataframe tbody tr th {\n",
       "        vertical-align: top;\n",
       "    }\n",
       "\n",
       "    .dataframe thead th {\n",
       "        text-align: right;\n",
       "    }\n",
       "</style>\n",
       "<table border=\"1\" class=\"dataframe\">\n",
       "  <thead>\n",
       "    <tr style=\"text-align: right;\">\n",
       "      <th></th>\n",
       "      <th>Age</th>\n",
       "      <th>Embarked_C</th>\n",
       "      <th>Embarked_Q</th>\n",
       "      <th>Embarked_S</th>\n",
       "      <th>Fare</th>\n",
       "      <th>HasCabin</th>\n",
       "      <th>NameLength</th>\n",
       "      <th>Parch</th>\n",
       "      <th>Pclass</th>\n",
       "      <th>Sex</th>\n",
       "      <th>...</th>\n",
       "      <th>Title_Major</th>\n",
       "      <th>Title_Master</th>\n",
       "      <th>Title_Miss</th>\n",
       "      <th>Title_Mlle</th>\n",
       "      <th>Title_Mme</th>\n",
       "      <th>Title_Mr</th>\n",
       "      <th>Title_Mrs</th>\n",
       "      <th>Title_Ms</th>\n",
       "      <th>Title_Rev</th>\n",
       "      <th>Title_Sir</th>\n",
       "    </tr>\n",
       "  </thead>\n",
       "  <tbody>\n",
       "    <tr>\n",
       "      <th>0</th>\n",
       "      <td>0.271174</td>\n",
       "      <td>0</td>\n",
       "      <td>0</td>\n",
       "      <td>1</td>\n",
       "      <td>0.014151</td>\n",
       "      <td>0</td>\n",
       "      <td>0.15942</td>\n",
       "      <td>0</td>\n",
       "      <td>3</td>\n",
       "      <td>0</td>\n",
       "      <td>...</td>\n",
       "      <td>0</td>\n",
       "      <td>0</td>\n",
       "      <td>0</td>\n",
       "      <td>0</td>\n",
       "      <td>0</td>\n",
       "      <td>1</td>\n",
       "      <td>0</td>\n",
       "      <td>0</td>\n",
       "      <td>0</td>\n",
       "      <td>0</td>\n",
       "    </tr>\n",
       "  </tbody>\n",
       "</table>\n",
       "<p>1 rows × 29 columns</p>\n",
       "</div>"
      ],
      "text/plain": [
       "        Age  Embarked_C  Embarked_Q  Embarked_S      Fare  HasCabin  \\\n",
       "0  0.271174           0           0           1  0.014151         0   \n",
       "\n",
       "   NameLength  Parch  Pclass  Sex  ...  Title_Major  Title_Master  Title_Miss  \\\n",
       "0     0.15942      0       3    0  ...            0             0           0   \n",
       "\n",
       "   Title_Mlle  Title_Mme  Title_Mr  Title_Mrs  Title_Ms  Title_Rev  Title_Sir  \n",
       "0           0          0         1          0         0          0          0  \n",
       "\n",
       "[1 rows x 29 columns]"
      ]
     },
     "execution_count": 2,
     "metadata": {},
     "output_type": "execute_result"
    }
   ],
   "source": [
    "df.head(1)"
   ]
  },
  {
   "cell_type": "code",
   "execution_count": 3,
   "metadata": {},
   "outputs": [
    {
     "data": {
      "text/html": [
       "<div>\n",
       "<style scoped>\n",
       "    .dataframe tbody tr th:only-of-type {\n",
       "        vertical-align: middle;\n",
       "    }\n",
       "\n",
       "    .dataframe tbody tr th {\n",
       "        vertical-align: top;\n",
       "    }\n",
       "\n",
       "    .dataframe thead th {\n",
       "        text-align: right;\n",
       "    }\n",
       "</style>\n",
       "<table border=\"1\" class=\"dataframe\">\n",
       "  <thead>\n",
       "    <tr style=\"text-align: right;\">\n",
       "      <th></th>\n",
       "      <th>Age</th>\n",
       "      <th>Embarked_C</th>\n",
       "      <th>Embarked_Q</th>\n",
       "      <th>Embarked_S</th>\n",
       "      <th>Fare</th>\n",
       "      <th>HasCabin</th>\n",
       "      <th>NameLength</th>\n",
       "      <th>Parch</th>\n",
       "      <th>Pclass</th>\n",
       "      <th>Sex</th>\n",
       "      <th>...</th>\n",
       "      <th>Title_Major</th>\n",
       "      <th>Title_Master</th>\n",
       "      <th>Title_Miss</th>\n",
       "      <th>Title_Mlle</th>\n",
       "      <th>Title_Mme</th>\n",
       "      <th>Title_Mr</th>\n",
       "      <th>Title_Mrs</th>\n",
       "      <th>Title_Ms</th>\n",
       "      <th>Title_Rev</th>\n",
       "      <th>Title_Sir</th>\n",
       "    </tr>\n",
       "  </thead>\n",
       "  <tbody>\n",
       "    <tr>\n",
       "      <th>0</th>\n",
       "      <td>0.452723</td>\n",
       "      <td>0</td>\n",
       "      <td>1</td>\n",
       "      <td>0</td>\n",
       "      <td>0.015282</td>\n",
       "      <td>0</td>\n",
       "      <td>0.061224</td>\n",
       "      <td>0</td>\n",
       "      <td>3</td>\n",
       "      <td>0</td>\n",
       "      <td>...</td>\n",
       "      <td>0</td>\n",
       "      <td>0</td>\n",
       "      <td>0</td>\n",
       "      <td>0</td>\n",
       "      <td>0</td>\n",
       "      <td>1</td>\n",
       "      <td>0</td>\n",
       "      <td>0</td>\n",
       "      <td>0</td>\n",
       "      <td>0</td>\n",
       "    </tr>\n",
       "  </tbody>\n",
       "</table>\n",
       "<p>1 rows × 28 columns</p>\n",
       "</div>"
      ],
      "text/plain": [
       "        Age  Embarked_C  Embarked_Q  Embarked_S      Fare  HasCabin  \\\n",
       "0  0.452723           0           1           0  0.015282         0   \n",
       "\n",
       "   NameLength  Parch  Pclass  Sex  ...  Title_Major  Title_Master  Title_Miss  \\\n",
       "0    0.061224      0       3    0  ...            0             0           0   \n",
       "\n",
       "   Title_Mlle  Title_Mme  Title_Mr  Title_Mrs  Title_Ms  Title_Rev  Title_Sir  \n",
       "0           0          0         1          0         0          0          0  \n",
       "\n",
       "[1 rows x 28 columns]"
      ]
     },
     "execution_count": 3,
     "metadata": {},
     "output_type": "execute_result"
    }
   ],
   "source": [
    "test_df.head(1)"
   ]
  },
  {
   "cell_type": "code",
   "execution_count": 4,
   "metadata": {},
   "outputs": [],
   "source": [
    "df = data_preparation.dummify(df, \"Survived\")"
   ]
  },
  {
   "cell_type": "code",
   "execution_count": 5,
   "metadata": {},
   "outputs": [
    {
     "name": "stderr",
     "output_type": "stream",
     "text": [
      "2024-01-19 22:38:51.441888: I tensorflow/compiler/xla/stream_executor/cuda/cuda_gpu_executor.cc:880] could not open file to read NUMA node: /sys/bus/pci/devices/0000:01:00.0/numa_node\n",
      "Your kernel may have been built without NUMA support.\n",
      "2024-01-19 22:38:51.450599: I tensorflow/compiler/xla/stream_executor/cuda/cuda_gpu_executor.cc:880] could not open file to read NUMA node: /sys/bus/pci/devices/0000:01:00.0/numa_node\n",
      "Your kernel may have been built without NUMA support.\n",
      "2024-01-19 22:38:51.450983: I tensorflow/compiler/xla/stream_executor/cuda/cuda_gpu_executor.cc:880] could not open file to read NUMA node: /sys/bus/pci/devices/0000:01:00.0/numa_node\n",
      "Your kernel may have been built without NUMA support.\n"
     ]
    },
    {
     "data": {
      "text/plain": [
       "[PhysicalDevice(name='/physical_device:GPU:0', device_type='GPU')]"
      ]
     },
     "execution_count": 5,
     "metadata": {},
     "output_type": "execute_result"
    }
   ],
   "source": [
    "tf.config.list_physical_devices('GPU')"
   ]
  },
  {
   "cell_type": "code",
   "execution_count": 6,
   "metadata": {},
   "outputs": [],
   "source": [
    "x = df.drop(columns=['Survived_0', 'Survived_1'])\n",
    "y = df[['Survived_0', 'Survived_1']]"
   ]
  },
  {
   "cell_type": "code",
   "execution_count": 7,
   "metadata": {},
   "outputs": [
    {
     "data": {
      "text/plain": [
       "(891, 28)"
      ]
     },
     "execution_count": 7,
     "metadata": {},
     "output_type": "execute_result"
    }
   ],
   "source": [
    "x.shape"
   ]
  },
  {
   "cell_type": "code",
   "execution_count": 8,
   "metadata": {},
   "outputs": [],
   "source": [
    "# Split made for validation purposes rather than testing, since the test set was given separately.\n",
    "\n",
    "x_train, x_test, y_train, y_test = train_test_split(x, y)"
   ]
  },
  {
   "cell_type": "code",
   "execution_count": 9,
   "metadata": {},
   "outputs": [
    {
     "data": {
      "text/plain": [
       "(668, 28)"
      ]
     },
     "execution_count": 9,
     "metadata": {},
     "output_type": "execute_result"
    }
   ],
   "source": [
    "x_train.shape"
   ]
  },
  {
   "cell_type": "code",
   "execution_count": 10,
   "metadata": {},
   "outputs": [
    {
     "name": "stderr",
     "output_type": "stream",
     "text": [
      "2024-01-19 22:38:51.528552: I tensorflow/compiler/xla/stream_executor/cuda/cuda_gpu_executor.cc:880] could not open file to read NUMA node: /sys/bus/pci/devices/0000:01:00.0/numa_node\n",
      "Your kernel may have been built without NUMA support.\n",
      "2024-01-19 22:38:51.529382: I tensorflow/compiler/xla/stream_executor/cuda/cuda_gpu_executor.cc:880] could not open file to read NUMA node: /sys/bus/pci/devices/0000:01:00.0/numa_node\n",
      "Your kernel may have been built without NUMA support.\n",
      "2024-01-19 22:38:51.530002: I tensorflow/compiler/xla/stream_executor/cuda/cuda_gpu_executor.cc:880] could not open file to read NUMA node: /sys/bus/pci/devices/0000:01:00.0/numa_node\n",
      "Your kernel may have been built without NUMA support.\n",
      "2024-01-19 22:38:51.941119: I tensorflow/compiler/xla/stream_executor/cuda/cuda_gpu_executor.cc:880] could not open file to read NUMA node: /sys/bus/pci/devices/0000:01:00.0/numa_node\n",
      "Your kernel may have been built without NUMA support.\n",
      "2024-01-19 22:38:51.941444: I tensorflow/compiler/xla/stream_executor/cuda/cuda_gpu_executor.cc:880] could not open file to read NUMA node: /sys/bus/pci/devices/0000:01:00.0/numa_node\n",
      "Your kernel may have been built without NUMA support.\n",
      "2024-01-19 22:38:51.941466: I tensorflow/core/common_runtime/gpu/gpu_device.cc:1977] Could not identify NUMA node of platform GPU id 0, defaulting to 0.  Your kernel may not have been built with NUMA support.\n",
      "2024-01-19 22:38:51.941701: I tensorflow/compiler/xla/stream_executor/cuda/cuda_gpu_executor.cc:880] could not open file to read NUMA node: /sys/bus/pci/devices/0000:01:00.0/numa_node\n",
      "Your kernel may have been built without NUMA support.\n",
      "2024-01-19 22:38:51.941762: I tensorflow/core/common_runtime/gpu/gpu_device.cc:1886] Created device /job:localhost/replica:0/task:0/device:GPU:0 with 5595 MB memory:  -> device: 0, name: NVIDIA GeForce RTX 3070 Laptop GPU, pci bus id: 0000:01:00.0, compute capability: 8.6\n"
     ]
    }
   ],
   "source": [
    "x_np = np.array([x], dtype=np.float32)\n",
    "y_np = np.array([y], dtype=np.float32)\n",
    "\n",
    "x_tf = tf.convert_to_tensor(x, dtype=tf.float32)\n",
    "y_tf = tf.convert_to_tensor(y, dtype=tf.float32)\n",
    "\n",
    "x_train_np = np.array([x_train], dtype=np.float32)\n",
    "x_test_np = np.array([x_test], dtype=np.float32)\n",
    "y_train_np = np.array([y_train], dtype=np.float32)\n",
    "y_test_np = np.array([y_test], dtype=np.float32)\n",
    "\n",
    "x_train_tf = tf.convert_to_tensor(x_train, dtype=tf.float32)\n",
    "x_test_tf = tf.convert_to_tensor(x_test, dtype=tf.float32)\n",
    "y_train_tf = tf.convert_to_tensor(y_train, dtype=tf.float32)\n",
    "y_test_tf = tf.convert_to_tensor(y_test, dtype=tf.float32)\n",
    "\n",
    "test_data_tf = tf.convert_to_tensor(test_df, dtype=tf.float32)\n",
    "\n"
   ]
  },
  {
   "cell_type": "code",
   "execution_count": 11,
   "metadata": {},
   "outputs": [
    {
     "name": "stdout",
     "output_type": "stream",
     "text": [
      "(668, 28)\n",
      "(891, 28)\n",
      "(418, 28)\n"
     ]
    }
   ],
   "source": [
    "print(x_train_tf.shape)\n",
    "print(x_tf.shape)\n",
    "print(test_data_tf.shape)"
   ]
  },
  {
   "cell_type": "code",
   "execution_count": 12,
   "metadata": {},
   "outputs": [],
   "source": [
    "model = models.Sequential()\n",
    "model.add(layers.Input(shape=x_train_tf.shape[1:]))\n",
    "model.add(layers.Dense(64, activation='relu'))\n",
    "model.add(layers.Dropout(0.5))\n",
    "model.add(layers.Dense(2))"
   ]
  },
  {
   "cell_type": "code",
   "execution_count": 13,
   "metadata": {},
   "outputs": [],
   "source": [
    "model.compile(optimizer='adam',\n",
    "              loss=tf.keras.losses.binary_crossentropy,\n",
    "              metrics =['accuracy'])"
   ]
  },
  {
   "cell_type": "code",
   "execution_count": 14,
   "metadata": {},
   "outputs": [
    {
     "name": "stdout",
     "output_type": "stream",
     "text": [
      "Model: \"sequential\"\n",
      "_________________________________________________________________\n",
      " Layer (type)                Output Shape              Param #   \n",
      "=================================================================\n",
      " dense (Dense)               (None, 64)                1856      \n",
      "                                                                 \n",
      " dropout (Dropout)           (None, 64)                0         \n",
      "                                                                 \n",
      " dense_1 (Dense)             (None, 2)                 130       \n",
      "                                                                 \n",
      "=================================================================\n",
      "Total params: 1986 (7.76 KB)\n",
      "Trainable params: 1986 (7.76 KB)\n",
      "Non-trainable params: 0 (0.00 Byte)\n",
      "_________________________________________________________________\n"
     ]
    }
   ],
   "source": [
    "model.summary()"
   ]
  },
  {
   "cell_type": "code",
   "execution_count": 15,
   "metadata": {},
   "outputs": [
    {
     "name": "stdout",
     "output_type": "stream",
     "text": [
      "Epoch 1/50\n"
     ]
    },
    {
     "name": "stderr",
     "output_type": "stream",
     "text": [
      "2024-01-19 22:38:53.256702: I tensorflow/tsl/platform/default/subprocess.cc:304] Start cannot spawn child process: No such file or directory\n",
      "2024-01-19 22:38:55.337351: I tensorflow/compiler/xla/service/service.cc:168] XLA service 0x7f3ee05220a0 initialized for platform CUDA (this does not guarantee that XLA will be used). Devices:\n",
      "2024-01-19 22:38:55.337475: I tensorflow/compiler/xla/service/service.cc:176]   StreamExecutor device (0): NVIDIA GeForce RTX 3070 Laptop GPU, Compute Capability 8.6\n",
      "2024-01-19 22:38:55.351189: I tensorflow/compiler/mlir/tensorflow/utils/dump_mlir_util.cc:269] disabling MLIR crash reproducer, set env var `MLIR_CRASH_REPRODUCER_DIRECTORY` to enable.\n",
      "2024-01-19 22:38:55.391941: I tensorflow/compiler/xla/stream_executor/cuda/cuda_dnn.cc:442] Loaded cuDNN version 8700\n",
      "2024-01-19 22:38:55.616654: I ./tensorflow/compiler/jit/device_compiler.h:186] Compiled cluster using XLA!  This line is logged at most once for the lifetime of the process.\n"
     ]
    },
    {
     "name": "stdout",
     "output_type": "stream",
     "text": [
      "21/21 [==============================] - 4s 18ms/step - loss: 3.8801 - accuracy: 0.6198\n",
      "Epoch 2/50\n",
      "21/21 [==============================] - 0s 15ms/step - loss: 3.3225 - accuracy: 0.6347\n",
      "Epoch 3/50\n",
      "21/21 [==============================] - 0s 13ms/step - loss: 2.5168 - accuracy: 0.6751\n",
      "Epoch 4/50\n",
      "21/21 [==============================] - 0s 11ms/step - loss: 2.1048 - accuracy: 0.6647\n",
      "Epoch 5/50\n",
      "21/21 [==============================] - 0s 11ms/step - loss: 1.8132 - accuracy: 0.6871\n",
      "Epoch 6/50\n",
      "21/21 [==============================] - 0s 10ms/step - loss: 1.8915 - accuracy: 0.7126\n",
      "Epoch 7/50\n",
      "21/21 [==============================] - 0s 10ms/step - loss: 2.1619 - accuracy: 0.6811\n",
      "Epoch 8/50\n",
      "21/21 [==============================] - 0s 9ms/step - loss: 1.8768 - accuracy: 0.7141\n",
      "Epoch 9/50\n",
      "21/21 [==============================] - 0s 7ms/step - loss: 1.7246 - accuracy: 0.7126\n",
      "Epoch 10/50\n",
      "21/21 [==============================] - 0s 7ms/step - loss: 1.7795 - accuracy: 0.7380\n",
      "Epoch 11/50\n",
      "21/21 [==============================] - 0s 7ms/step - loss: 1.5747 - accuracy: 0.7410\n",
      "Epoch 12/50\n",
      "21/21 [==============================] - 0s 6ms/step - loss: 1.5207 - accuracy: 0.7425\n",
      "Epoch 13/50\n",
      "21/21 [==============================] - 0s 7ms/step - loss: 1.5302 - accuracy: 0.7410\n",
      "Epoch 14/50\n",
      "21/21 [==============================] - 0s 6ms/step - loss: 1.4268 - accuracy: 0.7500\n",
      "Epoch 15/50\n",
      "21/21 [==============================] - 0s 7ms/step - loss: 1.4591 - accuracy: 0.7620\n",
      "Epoch 16/50\n",
      "21/21 [==============================] - 0s 7ms/step - loss: 1.4468 - accuracy: 0.7365\n",
      "Epoch 17/50\n",
      "21/21 [==============================] - 0s 10ms/step - loss: 1.4790 - accuracy: 0.7500\n",
      "Epoch 18/50\n",
      "21/21 [==============================] - 0s 8ms/step - loss: 1.1807 - accuracy: 0.7665\n",
      "Epoch 19/50\n",
      "21/21 [==============================] - 0s 8ms/step - loss: 1.2976 - accuracy: 0.7769\n",
      "Epoch 20/50\n",
      "21/21 [==============================] - 0s 7ms/step - loss: 1.2315 - accuracy: 0.7695\n",
      "Epoch 21/50\n",
      "21/21 [==============================] - 0s 7ms/step - loss: 1.4040 - accuracy: 0.7425\n",
      "Epoch 22/50\n",
      "21/21 [==============================] - 0s 6ms/step - loss: 1.3408 - accuracy: 0.7725\n",
      "Epoch 23/50\n",
      "21/21 [==============================] - 0s 6ms/step - loss: 1.2952 - accuracy: 0.7620\n",
      "Epoch 24/50\n",
      "21/21 [==============================] - 0s 7ms/step - loss: 1.1861 - accuracy: 0.7725\n",
      "Epoch 25/50\n",
      "21/21 [==============================] - 0s 7ms/step - loss: 1.1479 - accuracy: 0.7515\n",
      "Epoch 26/50\n",
      "21/21 [==============================] - 0s 7ms/step - loss: 1.0541 - accuracy: 0.7784\n",
      "Epoch 27/50\n",
      "21/21 [==============================] - 0s 6ms/step - loss: 1.0630 - accuracy: 0.7725\n",
      "Epoch 28/50\n",
      "21/21 [==============================] - 0s 6ms/step - loss: 0.9634 - accuracy: 0.7994\n",
      "Epoch 29/50\n",
      "21/21 [==============================] - 0s 6ms/step - loss: 1.1021 - accuracy: 0.7695\n",
      "Epoch 30/50\n",
      "21/21 [==============================] - 0s 7ms/step - loss: 1.0711 - accuracy: 0.7590\n",
      "Epoch 31/50\n",
      "21/21 [==============================] - 0s 7ms/step - loss: 1.2146 - accuracy: 0.7515\n",
      "Epoch 32/50\n",
      "21/21 [==============================] - 0s 6ms/step - loss: 1.0155 - accuracy: 0.7994\n",
      "Epoch 33/50\n",
      "21/21 [==============================] - 0s 7ms/step - loss: 1.1546 - accuracy: 0.7545\n",
      "Epoch 34/50\n",
      "21/21 [==============================] - 0s 8ms/step - loss: 1.0429 - accuracy: 0.7710\n",
      "Epoch 35/50\n",
      "21/21 [==============================] - 0s 8ms/step - loss: 0.9444 - accuracy: 0.7799\n",
      "Epoch 36/50\n",
      "21/21 [==============================] - 0s 10ms/step - loss: 0.9933 - accuracy: 0.7635\n",
      "Epoch 37/50\n",
      "21/21 [==============================] - 0s 12ms/step - loss: 0.9394 - accuracy: 0.7485\n",
      "Epoch 38/50\n",
      "21/21 [==============================] - 0s 11ms/step - loss: 0.9454 - accuracy: 0.7440\n",
      "Epoch 39/50\n",
      "21/21 [==============================] - 0s 12ms/step - loss: 0.9217 - accuracy: 0.7844\n",
      "Epoch 40/50\n",
      "21/21 [==============================] - 0s 11ms/step - loss: 0.8643 - accuracy: 0.7874\n",
      "Epoch 41/50\n",
      "21/21 [==============================] - 0s 12ms/step - loss: 0.9201 - accuracy: 0.7725\n",
      "Epoch 42/50\n",
      "21/21 [==============================] - 0s 15ms/step - loss: 0.7959 - accuracy: 0.7814\n",
      "Epoch 43/50\n",
      "21/21 [==============================] - 0s 13ms/step - loss: 0.9127 - accuracy: 0.7979\n",
      "Epoch 44/50\n",
      "21/21 [==============================] - 0s 11ms/step - loss: 0.9158 - accuracy: 0.7949\n",
      "Epoch 45/50\n",
      "21/21 [==============================] - 0s 14ms/step - loss: 0.9605 - accuracy: 0.7710\n",
      "Epoch 46/50\n",
      "21/21 [==============================] - 0s 11ms/step - loss: 0.7873 - accuracy: 0.7889\n",
      "Epoch 47/50\n",
      "21/21 [==============================] - 0s 12ms/step - loss: 0.9432 - accuracy: 0.7799\n",
      "Epoch 48/50\n",
      "21/21 [==============================] - 0s 12ms/step - loss: 0.8603 - accuracy: 0.8009\n",
      "Epoch 49/50\n",
      "21/21 [==============================] - 0s 13ms/step - loss: 0.7922 - accuracy: 0.7934\n",
      "Epoch 50/50\n",
      "21/21 [==============================] - 0s 11ms/step - loss: 0.8573 - accuracy: 0.8009\n"
     ]
    }
   ],
   "source": [
    "history = model.fit(x_train_tf,\n",
    "                    y_train_tf,\n",
    "                    epochs = 80)"
   ]
  },
  {
   "cell_type": "code",
   "execution_count": 17,
   "metadata": {},
   "outputs": [
    {
     "name": "stdout",
     "output_type": "stream",
     "text": [
      "7/7 - 0s - loss: 0.6074 - accuracy: 0.7937 - 203ms/epoch - 29ms/step\n"
     ]
    }
   ],
   "source": [
    "test_loss, test_acc = model.evaluate(x_test_tf, y_test_tf, verbose=2)"
   ]
  },
  {
   "cell_type": "code",
   "execution_count": 18,
   "metadata": {},
   "outputs": [],
   "source": [
    "probability_model = tf.keras.Sequential([model,\n",
    "                                         tf.keras.layers.Softmax()])"
   ]
  },
  {
   "cell_type": "code",
   "execution_count": 19,
   "metadata": {},
   "outputs": [
    {
     "name": "stdout",
     "output_type": "stream",
     "text": [
      "7/7 [==============================] - 0s 7ms/step\n"
     ]
    }
   ],
   "source": [
    "predictions = probability_model.predict(x_test_tf)"
   ]
  },
  {
   "cell_type": "code",
   "execution_count": 20,
   "metadata": {},
   "outputs": [
    {
     "data": {
      "text/plain": [
       "(223, 2)"
      ]
     },
     "execution_count": 20,
     "metadata": {},
     "output_type": "execute_result"
    }
   ],
   "source": [
    "predictions.shape"
   ]
  },
  {
   "cell_type": "code",
   "execution_count": 21,
   "metadata": {},
   "outputs": [
    {
     "data": {
      "text/plain": [
       "0.7185549"
      ]
     },
     "execution_count": 21,
     "metadata": {},
     "output_type": "execute_result"
    }
   ],
   "source": [
    "predictions[0][0]"
   ]
  },
  {
   "cell_type": "code",
   "execution_count": 22,
   "metadata": {},
   "outputs": [
    {
     "name": "stdout",
     "output_type": "stream",
     "text": [
      "0 <class 'numpy.int64'>\n"
     ]
    }
   ],
   "source": [
    "a = np.argmax(predictions[0][0])\n",
    "print(a, type(a))"
   ]
  },
  {
   "cell_type": "code",
   "execution_count": 23,
   "metadata": {},
   "outputs": [
    {
     "data": {
      "text/plain": [
       "<tf.Tensor: shape=(2,), dtype=float32, numpy=array([1., 0.], dtype=float32)>"
      ]
     },
     "execution_count": 23,
     "metadata": {},
     "output_type": "execute_result"
    }
   ],
   "source": [
    "y_test_tf[0]"
   ]
  },
  {
   "cell_type": "code",
   "execution_count": 24,
   "metadata": {},
   "outputs": [],
   "source": [
    "model2 = models.Sequential()\n",
    "model2.add(layers.Input(shape=x_tf.shape[1:]))\n",
    "model2.add(layers.Dense(64, activation='relu'))\n",
    "model2.add(layers.Dropout(0.5))\n",
    "model2.add(layers.Dense(2))"
   ]
  },
  {
   "cell_type": "code",
   "execution_count": 25,
   "metadata": {},
   "outputs": [],
   "source": [
    "model2.compile(optimizer='adam',\n",
    "              loss=tf.keras.losses.binary_crossentropy,\n",
    "              metrics =['accuracy'])"
   ]
  },
  {
   "cell_type": "code",
   "execution_count": 26,
   "metadata": {},
   "outputs": [
    {
     "name": "stdout",
     "output_type": "stream",
     "text": [
      "Model: \"sequential_2\"\n",
      "_________________________________________________________________\n",
      " Layer (type)                Output Shape              Param #   \n",
      "=================================================================\n",
      " dense_2 (Dense)             (None, 64)                1856      \n",
      "                                                                 \n",
      " dropout_1 (Dropout)         (None, 64)                0         \n",
      "                                                                 \n",
      " dense_3 (Dense)             (None, 2)                 130       \n",
      "                                                                 \n",
      "=================================================================\n",
      "Total params: 1986 (7.76 KB)\n",
      "Trainable params: 1986 (7.76 KB)\n",
      "Non-trainable params: 0 (0.00 Byte)\n",
      "_________________________________________________________________\n"
     ]
    }
   ],
   "source": [
    "model2.summary()"
   ]
  },
  {
   "cell_type": "code",
   "execution_count": 27,
   "metadata": {},
   "outputs": [
    {
     "name": "stdout",
     "output_type": "stream",
     "text": [
      "Epoch 1/50\n"
     ]
    },
    {
     "name": "stdout",
     "output_type": "stream",
     "text": [
      "28/28 [==============================] - 1s 15ms/step - loss: 4.2895 - accuracy: 0.5253\n",
      "Epoch 2/50\n",
      "28/28 [==============================] - 0s 11ms/step - loss: 3.2559 - accuracy: 0.5645\n",
      "Epoch 3/50\n",
      "28/28 [==============================] - 0s 11ms/step - loss: 3.1757 - accuracy: 0.6083\n",
      "Epoch 4/50\n",
      "28/28 [==============================] - 0s 11ms/step - loss: 2.6449 - accuracy: 0.6633\n",
      "Epoch 5/50\n",
      "28/28 [==============================] - 0s 11ms/step - loss: 2.6628 - accuracy: 0.6554\n",
      "Epoch 6/50\n",
      "28/28 [==============================] - 0s 12ms/step - loss: 2.5791 - accuracy: 0.6824\n",
      "Epoch 7/50\n",
      "28/28 [==============================] - 0s 12ms/step - loss: 2.3330 - accuracy: 0.7037\n",
      "Epoch 8/50\n",
      "28/28 [==============================] - 0s 12ms/step - loss: 2.3494 - accuracy: 0.7116\n",
      "Epoch 9/50\n",
      "28/28 [==============================] - 0s 12ms/step - loss: 2.2665 - accuracy: 0.7351\n",
      "Epoch 10/50\n",
      "28/28 [==============================] - 0s 13ms/step - loss: 2.2315 - accuracy: 0.7082\n",
      "Epoch 11/50\n",
      "28/28 [==============================] - 0s 12ms/step - loss: 2.0495 - accuracy: 0.7407\n",
      "Epoch 12/50\n",
      "28/28 [==============================] - 0s 13ms/step - loss: 2.0375 - accuracy: 0.7385\n",
      "Epoch 13/50\n",
      "28/28 [==============================] - 0s 13ms/step - loss: 2.1149 - accuracy: 0.7553\n",
      "Epoch 14/50\n",
      "28/28 [==============================] - 0s 14ms/step - loss: 1.8809 - accuracy: 0.7767\n",
      "Epoch 15/50\n",
      "28/28 [==============================] - 0s 13ms/step - loss: 2.0403 - accuracy: 0.7778\n",
      "Epoch 16/50\n",
      "28/28 [==============================] - 0s 13ms/step - loss: 2.0360 - accuracy: 0.7654\n",
      "Epoch 17/50\n",
      "28/28 [==============================] - 0s 11ms/step - loss: 2.0225 - accuracy: 0.7755\n",
      "Epoch 18/50\n",
      "28/28 [==============================] - 0s 13ms/step - loss: 1.9339 - accuracy: 0.7643\n",
      "Epoch 19/50\n",
      "28/28 [==============================] - 0s 14ms/step - loss: 1.9770 - accuracy: 0.7621\n",
      "Epoch 20/50\n",
      "28/28 [==============================] - 0s 14ms/step - loss: 1.8744 - accuracy: 0.7834\n",
      "Epoch 21/50\n",
      "28/28 [==============================] - 0s 14ms/step - loss: 1.8629 - accuracy: 0.7677\n",
      "Epoch 22/50\n",
      "28/28 [==============================] - 0s 13ms/step - loss: 1.8451 - accuracy: 0.7890\n",
      "Epoch 23/50\n",
      "28/28 [==============================] - 0s 14ms/step - loss: 1.7791 - accuracy: 0.7755\n",
      "Epoch 24/50\n",
      "28/28 [==============================] - 0s 12ms/step - loss: 1.6093 - accuracy: 0.7800\n",
      "Epoch 25/50\n",
      "28/28 [==============================] - 0s 11ms/step - loss: 1.6871 - accuracy: 0.7733\n",
      "Epoch 26/50\n",
      "28/28 [==============================] - 0s 14ms/step - loss: 1.8641 - accuracy: 0.7733\n",
      "Epoch 27/50\n",
      "28/28 [==============================] - 0s 13ms/step - loss: 1.7628 - accuracy: 0.7598\n",
      "Epoch 28/50\n",
      "28/28 [==============================] - 0s 13ms/step - loss: 1.7845 - accuracy: 0.7609\n",
      "Epoch 29/50\n",
      "28/28 [==============================] - 0s 13ms/step - loss: 1.8925 - accuracy: 0.7340\n",
      "Epoch 30/50\n",
      "28/28 [==============================] - 0s 13ms/step - loss: 1.9980 - accuracy: 0.7329\n",
      "Epoch 31/50\n",
      "28/28 [==============================] - 0s 14ms/step - loss: 1.8623 - accuracy: 0.7250\n",
      "Epoch 32/50\n",
      "28/28 [==============================] - 0s 13ms/step - loss: 1.9201 - accuracy: 0.7093\n",
      "Epoch 33/50\n",
      "28/28 [==============================] - 0s 14ms/step - loss: 1.6645 - accuracy: 0.7374\n",
      "Epoch 34/50\n",
      "28/28 [==============================] - 0s 13ms/step - loss: 1.3884 - accuracy: 0.7935\n",
      "Epoch 35/50\n",
      "28/28 [==============================] - 0s 13ms/step - loss: 1.6258 - accuracy: 0.7733\n",
      "Epoch 36/50\n",
      "28/28 [==============================] - 0s 13ms/step - loss: 1.4716 - accuracy: 0.7767\n",
      "Epoch 37/50\n",
      "28/28 [==============================] - 0s 12ms/step - loss: 1.4742 - accuracy: 0.7767\n",
      "Epoch 38/50\n",
      "28/28 [==============================] - 0s 12ms/step - loss: 1.5767 - accuracy: 0.7845\n",
      "Epoch 39/50\n",
      "28/28 [==============================] - 0s 13ms/step - loss: 1.4438 - accuracy: 0.7879\n",
      "Epoch 40/50\n",
      "28/28 [==============================] - 0s 13ms/step - loss: 1.4032 - accuracy: 0.7856\n",
      "Epoch 41/50\n",
      "28/28 [==============================] - 0s 13ms/step - loss: 1.4560 - accuracy: 0.7834\n",
      "Epoch 42/50\n",
      "28/28 [==============================] - 0s 13ms/step - loss: 1.5129 - accuracy: 0.7823\n",
      "Epoch 43/50\n",
      "28/28 [==============================] - 0s 12ms/step - loss: 1.3927 - accuracy: 0.7845\n",
      "Epoch 44/50\n",
      "28/28 [==============================] - 0s 12ms/step - loss: 1.4428 - accuracy: 0.7733\n",
      "Epoch 45/50\n",
      "28/28 [==============================] - 0s 12ms/step - loss: 1.4814 - accuracy: 0.7565\n",
      "Epoch 46/50\n",
      "28/28 [==============================] - 0s 12ms/step - loss: 1.5047 - accuracy: 0.7699\n",
      "Epoch 47/50\n",
      "28/28 [==============================] - 0s 11ms/step - loss: 1.3863 - accuracy: 0.7755\n",
      "Epoch 48/50\n",
      "28/28 [==============================] - 0s 11ms/step - loss: 1.4547 - accuracy: 0.7778\n",
      "Epoch 49/50\n",
      "28/28 [==============================] - 0s 11ms/step - loss: 1.3125 - accuracy: 0.7666\n",
      "Epoch 50/50\n",
      "28/28 [==============================] - 0s 12ms/step - loss: 1.3278 - accuracy: 0.7767\n"
     ]
    }
   ],
   "source": [
    "history = model2.fit(x_tf,\n",
    "                    y_tf,\n",
    "                    epochs = 80)"
   ]
  },
  {
   "cell_type": "code",
   "execution_count": 28,
   "metadata": {},
   "outputs": [],
   "source": [
    "probability_model2 = tf.keras.Sequential([model2,\n",
    "                                         tf.keras.layers.Softmax()])"
   ]
  },
  {
   "cell_type": "code",
   "execution_count": 29,
   "metadata": {},
   "outputs": [
    {
     "name": "stdout",
     "output_type": "stream",
     "text": [
      " 1/14 [=>............................] - ETA: 1s"
     ]
    },
    {
     "name": "stdout",
     "output_type": "stream",
     "text": [
      "14/14 [==============================] - 0s 4ms/step\n"
     ]
    }
   ],
   "source": [
    "predictions = probability_model2.predict(test_data_tf)"
   ]
  },
  {
   "cell_type": "code",
   "execution_count": 40,
   "metadata": {},
   "outputs": [],
   "source": [
    "preds = []\n",
    "for i in predictions:\n",
    "    if i[0] < i[1]:\n",
    "        preds.append(1)\n",
    "    else:\n",
    "        preds.append(0)"
   ]
  },
  {
   "cell_type": "code",
   "execution_count": 41,
   "metadata": {},
   "outputs": [],
   "source": [
    "ids = [i for i in test_ids]"
   ]
  },
  {
   "cell_type": "code",
   "execution_count": 43,
   "metadata": {},
   "outputs": [],
   "source": [
    "result = pd.DataFrame({\n",
    "    \"PassengerId\":ids,\n",
    "    \"Survived\":preds\n",
    "    })"
   ]
  },
  {
   "cell_type": "code",
   "execution_count": 44,
   "metadata": {},
   "outputs": [
    {
     "data": {
      "text/html": [
       "<div>\n",
       "<style scoped>\n",
       "    .dataframe tbody tr th:only-of-type {\n",
       "        vertical-align: middle;\n",
       "    }\n",
       "\n",
       "    .dataframe tbody tr th {\n",
       "        vertical-align: top;\n",
       "    }\n",
       "\n",
       "    .dataframe thead th {\n",
       "        text-align: right;\n",
       "    }\n",
       "</style>\n",
       "<table border=\"1\" class=\"dataframe\">\n",
       "  <thead>\n",
       "    <tr style=\"text-align: right;\">\n",
       "      <th></th>\n",
       "      <th>PassengerId</th>\n",
       "      <th>Survived</th>\n",
       "    </tr>\n",
       "  </thead>\n",
       "  <tbody>\n",
       "    <tr>\n",
       "      <th>0</th>\n",
       "      <td>892</td>\n",
       "      <td>0</td>\n",
       "    </tr>\n",
       "    <tr>\n",
       "      <th>1</th>\n",
       "      <td>893</td>\n",
       "      <td>1</td>\n",
       "    </tr>\n",
       "    <tr>\n",
       "      <th>2</th>\n",
       "      <td>894</td>\n",
       "      <td>0</td>\n",
       "    </tr>\n",
       "    <tr>\n",
       "      <th>3</th>\n",
       "      <td>895</td>\n",
       "      <td>0</td>\n",
       "    </tr>\n",
       "    <tr>\n",
       "      <th>4</th>\n",
       "      <td>896</td>\n",
       "      <td>1</td>\n",
       "    </tr>\n",
       "    <tr>\n",
       "      <th>...</th>\n",
       "      <td>...</td>\n",
       "      <td>...</td>\n",
       "    </tr>\n",
       "    <tr>\n",
       "      <th>413</th>\n",
       "      <td>1305</td>\n",
       "      <td>0</td>\n",
       "    </tr>\n",
       "    <tr>\n",
       "      <th>414</th>\n",
       "      <td>1306</td>\n",
       "      <td>1</td>\n",
       "    </tr>\n",
       "    <tr>\n",
       "      <th>415</th>\n",
       "      <td>1307</td>\n",
       "      <td>0</td>\n",
       "    </tr>\n",
       "    <tr>\n",
       "      <th>416</th>\n",
       "      <td>1308</td>\n",
       "      <td>0</td>\n",
       "    </tr>\n",
       "    <tr>\n",
       "      <th>417</th>\n",
       "      <td>1309</td>\n",
       "      <td>1</td>\n",
       "    </tr>\n",
       "  </tbody>\n",
       "</table>\n",
       "<p>418 rows × 2 columns</p>\n",
       "</div>"
      ],
      "text/plain": [
       "     PassengerId  Survived\n",
       "0            892         0\n",
       "1            893         1\n",
       "2            894         0\n",
       "3            895         0\n",
       "4            896         1\n",
       "..           ...       ...\n",
       "413         1305         0\n",
       "414         1306         1\n",
       "415         1307         0\n",
       "416         1308         0\n",
       "417         1309         1\n",
       "\n",
       "[418 rows x 2 columns]"
      ]
     },
     "execution_count": 44,
     "metadata": {},
     "output_type": "execute_result"
    }
   ],
   "source": [
    "result"
   ]
  },
  {
   "cell_type": "code",
   "execution_count": 45,
   "metadata": {},
   "outputs": [],
   "source": [
    "result.to_csv(\"result.csv\", index=False)"
   ]
  }
 ],
 "metadata": {
  "kernelspec": {
   "display_name": ".venv",
   "language": "python",
   "name": "python3"
  },
  "language_info": {
   "codemirror_mode": {
    "name": "ipython",
    "version": 3
   },
   "file_extension": ".py",
   "mimetype": "text/x-python",
   "name": "python",
   "nbconvert_exporter": "python",
   "pygments_lexer": "ipython3",
   "version": "3.10.13"
  }
 },
 "nbformat": 4,
 "nbformat_minor": 2
}
